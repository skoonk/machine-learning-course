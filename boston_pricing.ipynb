{
 "cells": [
  {
   "cell_type": "code",
   "execution_count": null,
   "metadata": {
    "collapsed": true
   },
   "outputs": [],
   "source": [
    "# Put Code Here"
   ]
  },
  {
   "cell_type": "markdown",
   "metadata": {},
   "source": [
    "# 1) Statistical Analysis and Data Exploration\n",
    "\n",
    "* Number of data points (houses)?\n",
    "* Number of features?\n",
    "* Minimum and maximum housing prices?\n",
    "* Mean and median Boston housing prices?\n",
    "* Standard deviation?"
   ]
  },
  {
   "cell_type": "markdown",
   "metadata": {},
   "source": [
    "# 2) Evaluating Model Performance\n",
    "\n",
    "* Which measure of model performance is best to use for predicting Boston housing data and analyzing the errors? \n",
    "* Why do you think this measurement most appropriate? Why might the other measurements not be appropriate here?\n",
    "* Why is it important to split the Boston housing data into training and testing data? What happens if you do not do this?\n",
    "* What does grid search do and why might you want to use it?\n",
    "* Why is cross validation useful and why might we use it with grid search?"
   ]
  },
  {
   "cell_type": "markdown",
   "metadata": {},
   "source": [
    "## 3) Analyzing Model Performance\n",
    "\n",
    "* Look at all learning curve graphs provided. What is the general trend of training and testing error as training size increases?\n",
    "* Look at the learning curves for the decision tree regressor with max depth 1 and 10 (first and last learning curve graphs). When the model is fully trained does it suffer from either high bias/underfitting or high variance/overfitting?\n",
    "* Look at the model complexity graph. How do the training and test error relate to increasing model complexity? Based on this relationship, which model (max depth) best generalizes the dataset and why?"
   ]
  },
  {
   "cell_type": "markdown",
   "metadata": {},
   "source": [
    "## 4) Model Prediction\n",
    "\n",
    "* Model makes predicted housing price with detailed model parameters (max depth) reported using grid search. Note due to the small randomization of the code it is recommended to run the program several times to identify the most common/reasonable price/model complexity.\n",
    "* Compare prediction to earlier statistics and make a case if you think it is a valid model."
   ]
  },
  {
   "cell_type": "code",
   "execution_count": null,
   "metadata": {
    "collapsed": true
   },
   "outputs": [],
   "source": []
  }
 ],
 "metadata": {
  "kernelspec": {
   "display_name": "Python 2",
   "language": "python",
   "name": "python2"
  },
  "language_info": {
   "codemirror_mode": {
    "name": "ipython",
    "version": 2
   },
   "file_extension": ".py",
   "mimetype": "text/x-python",
   "name": "python",
   "nbconvert_exporter": "python",
   "pygments_lexer": "ipython2",
   "version": "2.7.11"
  }
 },
 "nbformat": 4,
 "nbformat_minor": 0
}
